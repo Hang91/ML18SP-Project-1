{
 "cells": [
  {
   "cell_type": "code",
   "execution_count": 99,
   "metadata": {},
   "outputs": [],
   "source": [
    "import scipy.io as spio\n",
    "mat = spio.loadmat(\"ImsAndSegs/ImsAndTruths2092.mat\")"
   ]
  },
  {
   "cell_type": "code",
   "execution_count": 100,
   "metadata": {},
   "outputs": [],
   "source": [
    "A = mat.get('Seg1')\n",
    "B = mat.get('Seg2')"
   ]
  },
  {
   "cell_type": "code",
   "execution_count": 101,
   "metadata": {
    "collapsed": true
   },
   "outputs": [],
   "source": [
    "def getW1(a, length, width):\n",
    "    total = length * width\n",
    "    return len(a) * 1.0 / total"
   ]
  },
  {
   "cell_type": "code",
   "execution_count": 102,
   "metadata": {
    "collapsed": true
   },
   "outputs": [],
   "source": [
    "def intersection(a, b):\n",
    "    return a.intersection(b)"
   ]
  },
  {
   "cell_type": "code",
   "execution_count": 103,
   "metadata": {
    "collapsed": true
   },
   "outputs": [],
   "source": [
    "def union(a, b):\n",
    "    return a.union(b)"
   ]
  },
  {
   "cell_type": "code",
   "execution_count": 104,
   "metadata": {
    "collapsed": true
   },
   "outputs": [],
   "source": [
    "def deltaFunction(a):\n",
    "    if (len(a) == 0):\n",
    "        return 1\n",
    "    else:\n",
    "        return 0"
   ]
  },
  {
   "cell_type": "code",
   "execution_count": 105,
   "metadata": {
    "collapsed": true
   },
   "outputs": [],
   "source": [
    "def deltaBar(a):\n",
    "    return 1 - deltaFunction(a)"
   ]
  },
  {
   "cell_type": "code",
   "execution_count": 106,
   "metadata": {
    "collapsed": true
   },
   "outputs": [],
   "source": [
    "def getW2(ASets, BSets):\n",
    "    W2 = []\n",
    "    for a in ASets:\n",
    "        W = []\n",
    "        sum = 0\n",
    "        for b in BSets:\n",
    "            sum += deltaBar(intersection(a, b)) * len(b)\n",
    "        for b in BSets:\n",
    "            W.append(deltaBar(intersection(a, b)) * len(b) * 1.0 / sum)\n",
    "        W2.append(W)\n",
    "    return W2"
   ]
  },
  {
   "cell_type": "code",
   "execution_count": 119,
   "metadata": {},
   "outputs": [],
   "source": [
    "def getMartinIndex(A, B):\n",
    "    NumClustsOfA = 0\n",
    "    NumClustsOfB = 0\n",
    "    for i in range(len(A)):\n",
    "        for j in range(len(A[0])):\n",
    "            if (A[i][j] > NumClustsOfA):\n",
    "                NumClustsOfA = A[i][j]\n",
    "    for i in range(len(B)):\n",
    "        for j in range(len(B[0])):\n",
    "            if (B[i][j] > NumClustsOfB):\n",
    "                NumClustsOfB = B[i][j]\n",
    "    ASets = []\n",
    "    BSets = []\n",
    "    for i in range(NumClustsOfA):\n",
    "        ASets.append(set())\n",
    "    for i in range(NumClustsOfB):\n",
    "        BSets.append(set())\n",
    "    for i in range(len(A)):\n",
    "        for j in range(len(A[0])):\n",
    "            ASets[A[i][j] - 1].add(str(i) + ',' + str(j))\n",
    "    for i in range(len(B)):\n",
    "        for j in range(len(B[0])):\n",
    "            BSets[B[i][j] - 1].add(str(i) + ',' + str(j))\n",
    "    W1 = []\n",
    "    for a in ASets:\n",
    "        W1.append(getW1(a, len(A), len(A[0])))\n",
    "    W2 = []\n",
    "    W2 = getW2(ASets, BSets)\n",
    "    sum0 = 0\n",
    "    for i in range(len(ASets)):\n",
    "        sum1 = 0\n",
    "        for j in range(len(BSets)):\n",
    "            interLength = len(intersection(ASets[i], BSets[j]))\n",
    "            unionLength = len(union(ASets[i], BSets[j]))\n",
    "            sum1 += interLength * 1.0 / unionLength * W2[i][j]\n",
    "        sum0 += (1 - sum1) * W1[i]\n",
    "    return sum0"
   ]
  },
  {
   "cell_type": "code",
   "execution_count": 120,
   "metadata": {},
   "outputs": [],
   "source": [
    "def getOCE(A, B):\n",
    "    res = getMartinIndex(A, B)\n",
    "    res = min(getMartinIndex(B, A), res)\n",
    "    return res"
   ]
  },
  {
   "cell_type": "code",
   "execution_count": null,
   "metadata": {},
   "outputs": [],
   "source": [
    "getOCE(A, B)"
   ]
  },
  {
   "cell_type": "code",
   "execution_count": 116,
   "metadata": {},
   "outputs": [
    {
     "data": {
      "text/plain": [
       "10"
      ]
     },
     "execution_count": 116,
     "metadata": {},
     "output_type": "execute_result"
    }
   ],
   "source": []
  },
  {
   "cell_type": "code",
   "execution_count": null,
   "metadata": {
    "collapsed": true
   },
   "outputs": [],
   "source": []
  }
 ],
 "metadata": {
  "kernelspec": {
   "display_name": "Python 2",
   "language": "python",
   "name": "python2"
  },
  "language_info": {
   "codemirror_mode": {
    "name": "ipython",
    "version": 2
   },
   "file_extension": ".py",
   "mimetype": "text/x-python",
   "name": "python",
   "nbconvert_exporter": "python",
   "pygments_lexer": "ipython2",
   "version": "2.7.14"
  }
 },
 "nbformat": 4,
 "nbformat_minor": 2
}
